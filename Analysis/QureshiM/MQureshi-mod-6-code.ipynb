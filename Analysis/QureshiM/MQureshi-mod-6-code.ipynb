{
 "cells": [
  {
   "cell_type": "markdown",
   "id": "bf7c825d",
   "metadata": {},
   "source": [
    "# Module 6 group 4"
   ]
  },
  {
   "cell_type": "code",
   "execution_count": 1,
   "id": "16ec0273-7a0f-45e8-8f5b-767028529f52",
   "metadata": {},
   "outputs": [],
   "source": [
    "import numpy as np\n",
    "import pandas as pd\n",
    "import seaborn as sns\n",
    "import matplotlib.pyplot as plt"
   ]
  },
  {
   "cell_type": "code",
   "execution_count": 2,
   "id": "52373697-a8f6-4705-9a56-95aa310e7e8d",
   "metadata": {},
   "outputs": [
    {
     "name": "stdout",
     "output_type": "stream",
     "text": [
      "  This is the first paragraph.\n",
      "  It has some text and some sentences.\n",
      "- This is the end of the first paragraph.?                        --- ^\n",
      "+ This is the end of the second paragraph.?                         ^^^^^\n",
      "\n"
     ]
    }
   ],
   "source": [
    "import difflib\n",
    "\n",
    "def compare_paragraphs(paragraph1, paragraph2):\n",
    "    \"\"\"\n",
    "    Compares two paragraphs and identifies the differences between them.\n",
    "\n",
    "    Args:\n",
    "      paragraph1: The first paragraph as a string.\n",
    "      paragraph2: The second paragraph as a string.\n",
    "\n",
    "    Returns:\n",
    "      A string showing the differences between the two paragraphs, \n",
    "      marked with '+' for additions and '-' for deletions.\n",
    "    \"\"\"\n",
    "    differ = difflib.Differ()\n",
    "    diff = differ.compare(paragraph1.splitlines(keepends=True), paragraph2.splitlines(keepends=True))\n",
    "    return ''.join(diff)\n",
    "\n",
    "# Example usage:\n",
    "text1 = \"\"\"This is the first paragraph.\n",
    "It has some text and some sentences.\n",
    "This is the end of the first paragraph.\"\"\"\n",
    "\n",
    "text2 = \"\"\"This is the first paragraph.\n",
    "It has some text and some sentences.\n",
    "This is the end of the second paragraph.\"\"\"\n",
    "\n",
    "comparison = compare_paragraphs(text1, text2)\n",
    "print(comparison)"
   ]
  },
  {
   "cell_type": "markdown",
   "id": "645fb1c4",
   "metadata": {},
   "source": [
    "## Reddit User Agreement US vs UK/EU"
   ]
  },
  {
   "cell_type": "code",
   "execution_count": 3,
   "id": "fe7473b2-ad24-4cbd-a5c1-603cca2d7465",
   "metadata": {},
   "outputs": [
    {
     "name": "stdout",
     "output_type": "stream",
     "text": [
      "- Reddit User Agreement if you live in the United States or outside the EEA, United Kingdom, and Switzerland\n",
      "?                                          -----------------------------                     ^^^\n",
      "+ Reddit User Agreement if you live in the EEA, United Kingdom, or Switzerland\n",
      "?                                                               ^^\n",
      "  \n",
      "  Hello, redditors and people of the Internet! \n",
      "  This Reddit User Agreement (“Terms”) applies to your access to and use of the websites, mobile apps, widgets, APIs,\n",
      "  emails, and other online products and services (collectively, the “Services”) \n",
      "- provided by Reddit, Inc. (“Reddit,” “we,” “us,” or “our”).\n",
      "?                   - ^ ^\n",
      "+ provided by Reddit Netherlands B.V. (“Reddit,” “we,” “us,” or “our”).\n",
      "?                    ^^^^^^^^ ^^^^^^\n",
      "  \n",
      "  Remember Reddit is for fun and is intended to be a place for your entertainment, but we still need some basic rules. \n",
      "- By accessing or using our Services, you agree to be bound by these Terms. \n",
      "+ In order to use the Services, you must have accepted these Terms, which are: \n",
      "+ (a) presented to you when you create an Account; and (b) available at all times when you access the Services. \n",
      "- If you do not agree to these Terms, you may not access or use our Services\n",
      "?          - ^   ^^ ^^ -    ------ -\n",
      "+ If you don’t accept them, you may not access or use our Services.\n",
      "?           ^   ^^ ^                                              +\n",
      "  \n",
      "\n"
     ]
    }
   ],
   "source": [
    "text1 = \"\"\"Reddit User Agreement if you live in the United States or outside the EEA, United Kingdom, and Switzerland\n",
    "\n",
    "Hello, redditors and people of the Internet! \n",
    "This Reddit User Agreement (“Terms”) applies to your access to and use of the websites, mobile apps, widgets, APIs,\n",
    "emails, and other online products and services (collectively, the “Services”) \n",
    "provided by Reddit, Inc. (“Reddit,” “we,” “us,” or “our”).\n",
    "\n",
    "Remember Reddit is for fun and is intended to be a place for your entertainment, but we still need some basic rules. \n",
    "By accessing or using our Services, you agree to be bound by these Terms. \n",
    "If you do not agree to these Terms, you may not access or use our Services\n",
    "\n",
    "\"\"\"\n",
    "\n",
    "text2 = \"\"\"Reddit User Agreement if you live in the EEA, United Kingdom, or Switzerland\n",
    "\n",
    "Hello, redditors and people of the Internet! \n",
    "This Reddit User Agreement (“Terms”) applies to your access to and use of the websites, mobile apps, widgets, APIs,\n",
    "emails, and other online products and services (collectively, the “Services”) \n",
    "provided by Reddit Netherlands B.V. (“Reddit,” “we,” “us,” or “our”).\n",
    "\n",
    "Remember Reddit is for fun and is intended to be a place for your entertainment, but we still need some basic rules. \n",
    "In order to use the Services, you must have accepted these Terms, which are: \n",
    "(a) presented to you when you create an Account; and (b) available at all times when you access the Services. \n",
    "If you don’t accept them, you may not access or use our Services.\n",
    "\n",
    "\"\"\"\n",
    "\n",
    "comparison = compare_paragraphs(text1, text2)\n",
    "print(comparison)"
   ]
  },
  {
   "cell_type": "code",
   "execution_count": 4,
   "id": "f5dba2ee-662e-4efa-9864-0340a5a11822",
   "metadata": {},
   "outputs": [
    {
     "name": "stdout",
     "output_type": "stream",
     "text": [
      "  1. Your Access to the Services\n",
      "  No one under 13 is allowed to use or access the Services. We may offer additional Services that require you to be older to use them, so please read all notices and any Additional Terms carefully when you access the Services.\n",
      "  \n",
      "  By using the Services, you state that:\n",
      "  •\tYou are at least 13 years old and over the minimum age required by the laws of your country of residence to access and use the Services;\n",
      "  •\tYou can form a binding contract with Reddit, or, if you are over 13 but under the age of majority in your jurisdiction, that your legal guardian has reviewed and agrees to these Terms;\n",
      "  •\tYou are not barred from using the Services under all applicable laws; and\n",
      "  •\tYou have not been permanently suspended or removed from the Services.\n",
      "  If you are accepting these Terms on behalf of another legal entity, including a business or government entity, you represent that you have full legal authority to bind such entity to these Terms.\n",
      "\n"
     ]
    }
   ],
   "source": [
    "# Example usage:\n",
    "text1 = \"\"\"1. Your Access to the Services\n",
    "No one under 13 is allowed to use or access the Services. We may offer additional Services that require you to be older to use them, so please read all notices and any Additional Terms carefully when you access the Services.\n",
    "\n",
    "By using the Services, you state that:\n",
    "•\tYou are at least 13 years old and over the minimum age required by the laws of your country of residence to access and use the Services;\n",
    "•\tYou can form a binding contract with Reddit, or, if you are over 13 but under the age of majority in your jurisdiction, that your legal guardian has reviewed and agrees to these Terms;\n",
    "•\tYou are not barred from using the Services under all applicable laws; and\n",
    "•\tYou have not been permanently suspended or removed from the Services.\n",
    "If you are accepting these Terms on behalf of another legal entity, including a business or government entity, you represent that you have full legal authority to bind such entity to these Terms.\n",
    "\"\"\"\n",
    "\n",
    "text2 = \"\"\"1. Your Access to the Services\n",
    "No one under 13 is allowed to use or access the Services. We may offer additional Services that require you to be older to use them, so please read all notices and any Additional Terms carefully when you access the Services.\n",
    "\n",
    "By using the Services, you state that:\n",
    "•\tYou are at least 13 years old and over the minimum age required by the laws of your country of residence to access and use the Services;\n",
    "•\tYou can form a binding contract with Reddit, or, if you are over 13 but under the age of majority in your jurisdiction, that your legal guardian has reviewed and agrees to these Terms;\n",
    "•\tYou are not barred from using the Services under all applicable laws; and\n",
    "•\tYou have not been permanently suspended or removed from the Services.\n",
    "If you are accepting these Terms on behalf of another legal entity, including a business or government entity, you represent that you have full legal authority to bind such entity to these Terms.\n",
    "\"\"\"\n",
    "\n",
    "comparison = compare_paragraphs(text1, text2)\n",
    "print(comparison)"
   ]
  },
  {
   "cell_type": "markdown",
   "id": "b76ceddb-e1d9-43d2-b3c2-e731b58ee792",
   "metadata": {},
   "source": [
    "* No difference"
   ]
  },
  {
   "cell_type": "code",
   "execution_count": 5,
   "id": "4aca331b-04a4-4ac5-acdf-225c56edd17b",
   "metadata": {},
   "outputs": [
    {
     "name": "stdout",
     "output_type": "stream",
     "text": [
      "  2. Privacy\n",
      "  Reddit’s Privacy Policy explains how and why we collect, use, and share information about you when you access or use our Services. You understand that through your use of the Services, you consent to the collection and use of this information as set forth in the Privacy Policy.\n",
      "\n"
     ]
    }
   ],
   "source": [
    "# Example usage:\n",
    "text1 = \"\"\"2. Privacy\n",
    "Reddit’s Privacy Policy explains how and why we collect, use, and share information about you when you access or use our Services. You understand that through your use of the Services, you consent to the collection and use of this information as set forth in the Privacy Policy.\n",
    "\"\"\"\n",
    "\n",
    "text2 = \"\"\"2. Privacy\n",
    "Reddit’s Privacy Policy explains how and why we collect, use, and share information about you when you access or use our Services. You understand that through your use of the Services, you consent to the collection and use of this information as set forth in the Privacy Policy.\n",
    "\"\"\"\n",
    "\n",
    "comparison = compare_paragraphs(text1, text2)\n",
    "print(comparison)"
   ]
  },
  {
   "cell_type": "markdown",
   "id": "b05081fc-fff7-4ef8-a245-9a3ebc713922",
   "metadata": {},
   "source": [
    "No diff"
   ]
  },
  {
   "cell_type": "code",
   "execution_count": null,
   "id": "1d771c27-b9f2-4421-96b5-16626ef5299c",
   "metadata": {},
   "outputs": [],
   "source": []
  },
  {
   "cell_type": "code",
   "execution_count": 6,
   "id": "25384e05-9750-4981-af7a-4105b7095dd7",
   "metadata": {},
   "outputs": [
    {
     "name": "stdout",
     "output_type": "stream",
     "text": [
      "  3. Your Use of the Services\n",
      "  Subject to your complete and ongoing compliance with these Terms, Reddit grants you a personal, non-transferable, non-exclusive, revocable, limited license to: (a) install and use a copy of our mobile application associated with the Services that is obtained from a legitimate marketplace on a mobile device owned or controlled by you; and (b) access and use the Services. We reserve all rights not expressly granted to you by these Terms.\n",
      "  \n",
      "  Except and solely to the extent such a restriction is impermissible under applicable law, you may not, without our written agreement:\n",
      "  •\tlicense, sell, transfer, assign, distribute, host, or otherwise commercially exploit the Services or Content;\n",
      "  •\tmodify, prepare derivative works of, disassemble, decompile, or reverse engineer any part of the Services or Content; or\n",
      "  •\taccess the Services or Content in order to build a similar or competitive website, product, or service, except as permitted under any Additional Terms (as defined below).\n",
      "  \n",
      "+ We do not guarantee that the Services will always be available or uninterrupted. \n",
      "  We are always improving our Services. This means we may add or remove features, products, or functionalities; we will try to notify you beforehand, but that won’t always be possible. We reserve the right to modify, suspend, or discontinue the Services (in whole or in part) at any time, with or without notice to you. Any future release, update, or other addition to functionality of the Services will be subject to these Terms, which may be updated from time to time. You agree that we will not be liable to you or to any third party for any modification, suspension, or discontinuation of the Services or any part thereof.\n",
      "  \n",
      "  We personalize your experience on the Services based on a variety of factors, including your activity on the Services, communities you are subscribed to, and preferences you’ve identified in your settings. Based on these and other factors, we may make recommendations to make your experience on Reddit more relevant. For more information about your content recommendations, as well as a description of how you can control certain personalization options, please see our Help Center.\n",
      "\n"
     ]
    }
   ],
   "source": [
    "# Example usage:\n",
    "text1 = \"\"\"3. Your Use of the Services\n",
    "Subject to your complete and ongoing compliance with these Terms, Reddit grants you a personal, non-transferable, non-exclusive, revocable, limited license to: (a) install and use a copy of our mobile application associated with the Services that is obtained from a legitimate marketplace on a mobile device owned or controlled by you; and (b) access and use the Services. We reserve all rights not expressly granted to you by these Terms.\n",
    "\n",
    "Except and solely to the extent such a restriction is impermissible under applicable law, you may not, without our written agreement:\n",
    "•\tlicense, sell, transfer, assign, distribute, host, or otherwise commercially exploit the Services or Content;\n",
    "•\tmodify, prepare derivative works of, disassemble, decompile, or reverse engineer any part of the Services or Content; or\n",
    "•\taccess the Services or Content in order to build a similar or competitive website, product, or service, except as permitted under any Additional Terms (as defined below).\n",
    "\n",
    "We are always improving our Services. This means we may add or remove features, products, or functionalities; we will try to notify you beforehand, but that won’t always be possible. We reserve the right to modify, suspend, or discontinue the Services (in whole or in part) at any time, with or without notice to you. Any future release, update, or other addition to functionality of the Services will be subject to these Terms, which may be updated from time to time. You agree that we will not be liable to you or to any third party for any modification, suspension, or discontinuation of the Services or any part thereof.\n",
    "\n",
    "We personalize your experience on the Services based on a variety of factors, including your activity on the Services, communities you are subscribed to, and preferences you’ve identified in your settings. Based on these and other factors, we may make recommendations to make your experience on Reddit more relevant. For more information about your content recommendations, as well as a description of how you can control certain personalization options, please see our Help Center.\n",
    "\"\"\"\n",
    "\n",
    "text2 = \"\"\"3. Your Use of the Services\n",
    "Subject to your complete and ongoing compliance with these Terms, Reddit grants you a personal, non-transferable, non-exclusive, revocable, limited license to: (a) install and use a copy of our mobile application associated with the Services that is obtained from a legitimate marketplace on a mobile device owned or controlled by you; and (b) access and use the Services. We reserve all rights not expressly granted to you by these Terms.\n",
    "\n",
    "Except and solely to the extent such a restriction is impermissible under applicable law, you may not, without our written agreement:\n",
    "•\tlicense, sell, transfer, assign, distribute, host, or otherwise commercially exploit the Services or Content;\n",
    "•\tmodify, prepare derivative works of, disassemble, decompile, or reverse engineer any part of the Services or Content; or\n",
    "•\taccess the Services or Content in order to build a similar or competitive website, product, or service, except as permitted under any Additional Terms (as defined below).\n",
    "\n",
    "We do not guarantee that the Services will always be available or uninterrupted. \n",
    "We are always improving our Services. This means we may add or remove features, products, or functionalities; we will try to notify you beforehand, but that won’t always be possible. We reserve the right to modify, suspend, or discontinue the Services (in whole or in part) at any time, with or without notice to you. Any future release, update, or other addition to functionality of the Services will be subject to these Terms, which may be updated from time to time. You agree that we will not be liable to you or to any third party for any modification, suspension, or discontinuation of the Services or any part thereof.\n",
    "\n",
    "We personalize your experience on the Services based on a variety of factors, including your activity on the Services, communities you are subscribed to, and preferences you’ve identified in your settings. Based on these and other factors, we may make recommendations to make your experience on Reddit more relevant. For more information about your content recommendations, as well as a description of how you can control certain personalization options, please see our Help Center.\n",
    "\"\"\"\n",
    "\n",
    "comparison = compare_paragraphs(text1, text2)\n",
    "print(comparison)"
   ]
  },
  {
   "cell_type": "markdown",
   "id": "5a9da5d8-38ad-4c66-809a-82650a0b7958",
   "metadata": {},
   "source": [
    "* Difference: \n",
    "* <mark>We do not guarantee that the Services will always be available or uninterrupted(EU only)</mark> We are always improving our Services. This means we may add or remove features, products, or functionalities; we will try to notify you beforehand, but that won’t always be possible. We reserve the right to modify, suspend, or discontinue the Services (in whole or in part) at any time, with or without notice to you. Any future release, update, or other addition to functionality of the Services will be subject to these Terms, which may be updated from time to time. You agree that we will not be liable to you or to any third party for any modification, suspension, or discontinuation of the Services or any part thereof."
   ]
  },
  {
   "cell_type": "code",
   "execution_count": 24,
   "id": "1f88c033-f8b5-4ed6-82ac-d98611d013bc",
   "metadata": {},
   "outputs": [
    {
     "name": "stdout",
     "output_type": "stream",
     "text": [
      "  4. Your Reddit Account and Account Security\n",
      "  To use certain features of our Services, you may be required to create a Reddit account (an “Account”) and provide us with a username, password, and certain other information about yourself as set forth in the Privacy Policy.\n",
      "  \n",
      "  You are solely responsible for the information associated with your Account and anything that happens related to your Account. \n",
      "  You must maintain the security of your Account and immediately notify Reddit if you discover or suspect that someone has accessed your Account without your permission. We recommend that you use a strong password that is used only with your Account and enable two-factor authentication. If you add your phone number to your Account and later change or deactivate your phone number, make sure to update your Account information.\n",
      "  \n",
      "  You will not license, sell, or transfer your Account without our prior written approval.\n",
      "\n"
     ]
    }
   ],
   "source": [
    "# Example usage:\n",
    "text1 = \"\"\"4. Your Reddit Account and Account Security\n",
    "To use certain features of our Services, you may be required to create a Reddit account (an “Account”) and provide us with a username, password, and certain other information about yourself as set forth in the Privacy Policy.\n",
    "\n",
    "You are solely responsible for the information associated with your Account and anything that happens related to your Account. \n",
    "You must maintain the security of your Account and immediately notify Reddit if you discover or suspect that someone has accessed your Account without your permission. We recommend that you use a strong password that is used only with your Account and enable two-factor authentication. If you add your phone number to your Account and later change or deactivate your phone number, make sure to update your Account information.\n",
    "\n",
    "You will not license, sell, or transfer your Account without our prior written approval.\n",
    "\"\"\"\n",
    "\n",
    "text2 = \"\"\"4. Your Reddit Account and Account Security\n",
    "To use certain features of our Services, you may be required to create a Reddit account (an “Account”) and provide us with a username, password, and certain other information about yourself as set forth in the Privacy Policy.\n",
    "\n",
    "You are solely responsible for the information associated with your Account and anything that happens related to your Account. \n",
    "You must maintain the security of your Account and immediately notify Reddit if you discover or suspect that someone has accessed your Account without your permission. We recommend that you use a strong password that is used only with your Account and enable two-factor authentication. If you add your phone number to your Account and later change or deactivate your phone number, make sure to update your Account information.\n",
    "\n",
    "You will not license, sell, or transfer your Account without our prior written approval.\n",
    "\"\"\"\n",
    "\n",
    "comparison = compare_paragraphs(text1, text2)\n",
    "print(comparison)"
   ]
  },
  {
   "cell_type": "markdown",
   "id": "318588b4-3b2e-4d1c-8a0e-0fdc577e0a13",
   "metadata": {},
   "source": [
    "No difference"
   ]
  },
  {
   "cell_type": "code",
   "execution_count": 25,
   "id": "e76aa4df-7aad-4074-b94c-f7390b0f606d",
   "metadata": {
    "scrolled": false
   },
   "outputs": [
    {
     "name": "stdout",
     "output_type": "stream",
     "text": [
      "  5. Your Content\n",
      "  The Services may contain information, text, links, graphics, photos, videos, audio, streams, software, tools, or other materials (“Content”), including Content created with or submitted to the Services by you or through your Account (“Your Content”). We take no responsibility for and we do not expressly or implicitly endorse, support, or guarantee the completeness, truthfulness, accuracy, or reliability of any of Your Content.\n",
      "  \n",
      "  By submitting Your Content to the Services, you represent and warrant that you have all rights, power, and authority necessary to grant the rights to Your Content contained within these Terms. Because you alone are responsible for Your Content, you may expose yourself to liability if you post or share Content without all necessary rights.\n",
      "  \n",
      "  You retain any ownership rights you have in Your Content, but you grant Reddit the following license to use that Content:\n",
      "  \n",
      "  When Your Content is created with or submitted to the Services, you grant us a worldwide, royalty-free, perpetual, irrevocable, non-exclusive, transferable, and sublicensable license to use, copy, modify, adapt, prepare derivative works of, distribute, store, perform, and display Your Content and any name, username, voice, or likeness provided in connection with Your Content in all media formats and channels now known or later developed anywhere in the world. This license includes the right for us to make Your Content available for syndication, broadcast, distribution, or publication by other companies, organizations, or individuals who partner with Reddit. For example, this license includes the right to use Your Content to train AI and machine learning models, as further described in our Public Content Policy. You also agree that we may remove metadata associated with Your Content, and you irrevocably waive any claims and assertions of moral rights or attribution with respect to Your Content.\n",
      "  \n",
      "  Any ideas, suggestions, and feedback about Reddit or our Services that you provide to us are entirely voluntary, and you agree that Reddit may use such ideas, suggestions, and feedback without compensation or obligation to you.\n",
      "  \n",
      "- Although we have no obligation to screen, edit, or monitor Your Content, \n",
      "+ Although we reserve the right to review, screen, edit, or monitor Your Content, we do not necessarily review all of it at the time it is submitted to the Services. However, \n",
      "- we may, in our sole discretion, delete, deem your content ineligible for monetization, or remove Your Content, at any time and for any reason, including for violating these Terms, our Reddit Rules, or our other terms and policies, or if you otherwise create or are likely to create liability for us.\n",
      "?                                                                                                              -\n",
      "+ we may, in our sole discretion, delete, deem your content ineligible for monetization, or remove Your Content at any time and for any reason, including for violating these Terms, our Reddit Rules, or our other terms and policies, or if you otherwise create or are likely to create liability for us.\n",
      "  \n",
      "  For more information about Reddit’s approach to content moderation, including how we enforce our Reddit Rules and how to appeal content moderation decisions, please visit our Help Center.\n",
      "\n"
     ]
    }
   ],
   "source": [
    "# Example usage:\n",
    "text1 = \"\"\"5. Your Content\n",
    "The Services may contain information, text, links, graphics, photos, videos, audio, streams, software, tools, or other materials (“Content”), including Content created with or submitted to the Services by you or through your Account (“Your Content”). We take no responsibility for and we do not expressly or implicitly endorse, support, or guarantee the completeness, truthfulness, accuracy, or reliability of any of Your Content.\n",
    "\n",
    "By submitting Your Content to the Services, you represent and warrant that you have all rights, power, and authority necessary to grant the rights to Your Content contained within these Terms. Because you alone are responsible for Your Content, you may expose yourself to liability if you post or share Content without all necessary rights.\n",
    "\n",
    "You retain any ownership rights you have in Your Content, but you grant Reddit the following license to use that Content:\n",
    "\n",
    "When Your Content is created with or submitted to the Services, you grant us a worldwide, royalty-free, perpetual, irrevocable, non-exclusive, transferable, and sublicensable license to use, copy, modify, adapt, prepare derivative works of, distribute, store, perform, and display Your Content and any name, username, voice, or likeness provided in connection with Your Content in all media formats and channels now known or later developed anywhere in the world. This license includes the right for us to make Your Content available for syndication, broadcast, distribution, or publication by other companies, organizations, or individuals who partner with Reddit. For example, this license includes the right to use Your Content to train AI and machine learning models, as further described in our Public Content Policy. You also agree that we may remove metadata associated with Your Content, and you irrevocably waive any claims and assertions of moral rights or attribution with respect to Your Content.\n",
    "\n",
    "Any ideas, suggestions, and feedback about Reddit or our Services that you provide to us are entirely voluntary, and you agree that Reddit may use such ideas, suggestions, and feedback without compensation or obligation to you.\n",
    "\n",
    "Although we have no obligation to screen, edit, or monitor Your Content, \n",
    "we may, in our sole discretion, delete, deem your content ineligible for monetization, or remove Your Content, at any time and for any reason, including for violating these Terms, our Reddit Rules, or our other terms and policies, or if you otherwise create or are likely to create liability for us.\n",
    "\n",
    "For more information about Reddit’s approach to content moderation, including how we enforce our Reddit Rules and how to appeal content moderation decisions, please visit our Help Center.\n",
    "\"\"\"\n",
    "\n",
    "text2 = \"\"\"5. Your Content\n",
    "The Services may contain information, text, links, graphics, photos, videos, audio, streams, software, tools, or other materials (“Content”), including Content created with or submitted to the Services by you or through your Account (“Your Content”). We take no responsibility for and we do not expressly or implicitly endorse, support, or guarantee the completeness, truthfulness, accuracy, or reliability of any of Your Content.\n",
    "\n",
    "By submitting Your Content to the Services, you represent and warrant that you have all rights, power, and authority necessary to grant the rights to Your Content contained within these Terms. Because you alone are responsible for Your Content, you may expose yourself to liability if you post or share Content without all necessary rights.\n",
    "\n",
    "You retain any ownership rights you have in Your Content, but you grant Reddit the following license to use that Content:\n",
    "\n",
    "When Your Content is created with or submitted to the Services, you grant us a worldwide, royalty-free, perpetual, irrevocable, non-exclusive, transferable, and sublicensable license to use, copy, modify, adapt, prepare derivative works of, distribute, store, perform, and display Your Content and any name, username, voice, or likeness provided in connection with Your Content in all media formats and channels now known or later developed anywhere in the world. This license includes the right for us to make Your Content available for syndication, broadcast, distribution, or publication by other companies, organizations, or individuals who partner with Reddit. For example, this license includes the right to use Your Content to train AI and machine learning models, as further described in our Public Content Policy. You also agree that we may remove metadata associated with Your Content, and you irrevocably waive any claims and assertions of moral rights or attribution with respect to Your Content.\n",
    "\n",
    "Any ideas, suggestions, and feedback about Reddit or our Services that you provide to us are entirely voluntary, and you agree that Reddit may use such ideas, suggestions, and feedback without compensation or obligation to you.\n",
    "\n",
    "Although we reserve the right to review, screen, edit, or monitor Your Content, we do not necessarily review all of it at the time it is submitted to the Services. However, \n",
    "we may, in our sole discretion, delete, deem your content ineligible for monetization, or remove Your Content at any time and for any reason, including for violating these Terms, our Reddit Rules, or our other terms and policies, or if you otherwise create or are likely to create liability for us.\n",
    "\n",
    "For more information about Reddit’s approach to content moderation, including how we enforce our Reddit Rules and how to appeal content moderation decisions, please visit our Help Center.\n",
    "\"\"\"\n",
    "\n",
    "comparison = compare_paragraphs(text1, text2)\n",
    "print(comparison)"
   ]
  },
  {
   "cell_type": "markdown",
   "id": "2e87fc27-a6a4-48fc-b4b2-3dca3578f13f",
   "metadata": {},
   "source": [
    "* Pt. 5 difference:\n",
    "- <mark>[US only]Although we have no obligation to screen, edit, or monitor Your Content, </mark>\n",
    "+ <mark>{EU only}Although we reserve the right to review, screen, edit, or monitor Your Content, we do not necessarily review all of it at the time it is submitted to the Services. However, </mark>\n",
    "+ we may, in our sole discretion, delete, deem your content ineligible for monetization, or remove Your Content, at any time and for any reason, including for violating these Terms, our Reddit Rules, or our other terms and policies, or if you otherwise create or are likely to create liability for us."
   ]
  },
  {
   "cell_type": "code",
   "execution_count": 9,
   "id": "58aed0ea-d055-4e52-99b8-d840020d1c27",
   "metadata": {},
   "outputs": [
    {
     "name": "stdout",
     "output_type": "stream",
     "text": [
      "  6. Third-Party Content, Advertisements, and Promotions\n",
      "  The Services may contain links to third-party websites, products, or services, which may be posted by advertisers, our affiliates, our partners, or other users (“Third-Party Content”). \n",
      "  Third-Party Content is not under our control, and we are not responsible for any third party’s websites, products, or services. \n",
      "- Your use of Third-Party Content is at your own risk and you should make any investigation you feel necessary before proceeding with any transaction in connection with such Third-Party Content.\n",
      "+ Your use of Third-Party Content is at your own risk, and you should make any investigation you feel necessary before proceeding with any transaction in connection with such Third-Party Content.\n",
      "?                                                    +\n",
      "  \n",
      "  The Services may also contain sponsored Third-Party Content or advertisements. \n",
      "  The type, degree, and targeting of advertisements are subject to change, and you acknowledge and agree that we may place advertisements in connection with the display of any Content or information on the Services, including Your Content.\n",
      "  \n",
      "  If you choose to use the Services to conduct a promotion, including a contest or sweepstakes (“Promotion”), you alone are responsible for conducting the Promotion in compliance with all applicable laws and regulations, including creating official rules, offer terms, eligibility requirements, and compliance with applicable laws, rules, and regulations which govern the Promotion (such as licenses, registrations, bonds, and regulatory approval). Your Promotion must state that the Promotion is not sponsored by, endorsed by, or associated with Reddit, and the rules for your Promotion must require each entrant or participant to release Reddit from any liability related to the Promotion. You acknowledge and agree that we will not assist you in any way with your Promotion, and you agree to conduct your Promotion at your own risk.\n",
      "\n"
     ]
    }
   ],
   "source": [
    "# Example usage:\n",
    "text1 = \"\"\"6. Third-Party Content, Advertisements, and Promotions\n",
    "The Services may contain links to third-party websites, products, or services, which may be posted by advertisers, our affiliates, our partners, or other users (“Third-Party Content”). \n",
    "Third-Party Content is not under our control, and we are not responsible for any third party’s websites, products, or services. \n",
    "Your use of Third-Party Content is at your own risk and you should make any investigation you feel necessary before proceeding with any transaction in connection with such Third-Party Content.\n",
    "\n",
    "The Services may also contain sponsored Third-Party Content or advertisements. \n",
    "The type, degree, and targeting of advertisements are subject to change, and you acknowledge and agree that we may place advertisements in connection with the display of any Content or information on the Services, including Your Content.\n",
    "\n",
    "If you choose to use the Services to conduct a promotion, including a contest or sweepstakes (“Promotion”), you alone are responsible for conducting the Promotion in compliance with all applicable laws and regulations, including creating official rules, offer terms, eligibility requirements, and compliance with applicable laws, rules, and regulations which govern the Promotion (such as licenses, registrations, bonds, and regulatory approval). Your Promotion must state that the Promotion is not sponsored by, endorsed by, or associated with Reddit, and the rules for your Promotion must require each entrant or participant to release Reddit from any liability related to the Promotion. You acknowledge and agree that we will not assist you in any way with your Promotion, and you agree to conduct your Promotion at your own risk.\n",
    "\"\"\"\n",
    "\n",
    "text2 = \"\"\"6. Third-Party Content, Advertisements, and Promotions\n",
    "The Services may contain links to third-party websites, products, or services, which may be posted by advertisers, our affiliates, our partners, or other users (“Third-Party Content”). \n",
    "Third-Party Content is not under our control, and we are not responsible for any third party’s websites, products, or services. \n",
    "Your use of Third-Party Content is at your own risk, and you should make any investigation you feel necessary before proceeding with any transaction in connection with such Third-Party Content.\n",
    "\n",
    "The Services may also contain sponsored Third-Party Content or advertisements. \n",
    "The type, degree, and targeting of advertisements are subject to change, and you acknowledge and agree that we may place advertisements in connection with the display of any Content or information on the Services, including Your Content.\n",
    "\n",
    "If you choose to use the Services to conduct a promotion, including a contest or sweepstakes (“Promotion”), you alone are responsible for conducting the Promotion in compliance with all applicable laws and regulations, including creating official rules, offer terms, eligibility requirements, and compliance with applicable laws, rules, and regulations which govern the Promotion (such as licenses, registrations, bonds, and regulatory approval). Your Promotion must state that the Promotion is not sponsored by, endorsed by, or associated with Reddit, and the rules for your Promotion must require each entrant or participant to release Reddit from any liability related to the Promotion. You acknowledge and agree that we will not assist you in any way with your Promotion, and you agree to conduct your Promotion at your own risk.\n",
    "\"\"\"\n",
    "\n",
    "comparison = compare_paragraphs(text1, text2)\n",
    "print(comparison)"
   ]
  },
  {
   "cell_type": "markdown",
   "id": "eb5e7278-b5fb-4485-be1e-7c6cf1e734df",
   "metadata": {},
   "source": [
    "* Part 6 differencees:\n",
    "* None, except for commas"
   ]
  },
  {
   "cell_type": "code",
   "execution_count": 10,
   "id": "e3d6b123-0124-4332-b6dc-00844c00c6b5",
   "metadata": {},
   "outputs": [
    {
     "name": "stdout",
     "output_type": "stream",
     "text": [
      "  7. Things You Cannot Do\n",
      "  \n",
      "- When using or accessing the Services, you must comply with these Terms and all applicable laws, rules, and regulations. \n",
      "?                          -----------\n",
      "+ When using or accessing Reddit, you must comply with these Terms and all applicable laws, rules, and regulations. \n",
      "?                         +++++\n",
      "  Please review the Reddit Rules, which is incorporated by this reference into, and made a part of, these Terms and contain Reddit’s rules about prohibited content and conduct. \n",
      "  In addition to what is prohibited in the Reddit Rules, you may not do any of the following:\n",
      "  \n",
      "  Use the Services in any manner that could interfere with, disable, disrupt, overburden, or otherwise impair the Services;\n",
      "  \n",
      "  Gain access to (or attempt to gain access to) another user’s Account or any non-public portions of the Services, including the computer systems or networks connected to or used together with the Services;\n",
      "  \n",
      "  Upload, transmit, or distribute to or through the Services any viruses, worms, malicious code, or other software intended to interfere with the Services, including its security-related features;\n",
      "  \n",
      "  Use the Services to violate applicable law or infringe any person’s or entity’s intellectual property rights or any other proprietary rights;\n",
      "  \n",
      "  Access, search, or collect data from the Services by any means (automated or otherwise) except as permitted in these Terms or in a separate agreement with Reddit (we conditionally grant permission to crawl the Services in accordance with the parameters set forth in our robots.txt file, but scraping the Services without Reddit’s prior written consent is prohibited); or\n",
      "  \n",
      "  Use the Services in any manner that we reasonably believe to be an abuse of or fraud on Reddit or any payment system.\n",
      "  \n",
      "  We encourage you to report content or conduct that you believe violates these Terms or our Reddit Rules. We also support the responsible reporting of security vulnerabilities. To report a security issue, please email security@reddit.com.\n"
     ]
    }
   ],
   "source": [
    "# Example usage:\n",
    "text1 = \"\"\"7. Things You Cannot Do\n",
    "\n",
    "When using or accessing the Services, you must comply with these Terms and all applicable laws, rules, and regulations. \n",
    "Please review the Reddit Rules, which is incorporated by this reference into, and made a part of, these Terms and contain Reddit’s rules about prohibited content and conduct. \n",
    "In addition to what is prohibited in the Reddit Rules, you may not do any of the following:\n",
    "\n",
    "Use the Services in any manner that could interfere with, disable, disrupt, overburden, or otherwise impair the Services;\n",
    "\n",
    "Gain access to (or attempt to gain access to) another user’s Account or any non-public portions of the Services, including the computer systems or networks connected to or used together with the Services;\n",
    "\n",
    "Upload, transmit, or distribute to or through the Services any viruses, worms, malicious code, or other software intended to interfere with the Services, including its security-related features;\n",
    "\n",
    "Use the Services to violate applicable law or infringe any person’s or entity’s intellectual property rights or any other proprietary rights;\n",
    "\n",
    "Access, search, or collect data from the Services by any means (automated or otherwise) except as permitted in these Terms or in a separate agreement with Reddit (we conditionally grant permission to crawl the Services in accordance with the parameters set forth in our robots.txt file, but scraping the Services without Reddit’s prior written consent is prohibited); or\n",
    "\n",
    "Use the Services in any manner that we reasonably believe to be an abuse of or fraud on Reddit or any payment system.\n",
    "\n",
    "We encourage you to report content or conduct that you believe violates these Terms or our Reddit Rules. We also support the responsible reporting of security vulnerabilities. To report a security issue, please email security@reddit.com.\"\"\"\n",
    "\n",
    "text2 = \"\"\"7. Things You Cannot Do\n",
    "\n",
    "When using or accessing Reddit, you must comply with these Terms and all applicable laws, rules, and regulations. \n",
    "Please review the Reddit Rules, which is incorporated by this reference into, and made a part of, these Terms and contain Reddit’s rules about prohibited content and conduct. \n",
    "In addition to what is prohibited in the Reddit Rules, you may not do any of the following:\n",
    "\n",
    "Use the Services in any manner that could interfere with, disable, disrupt, overburden, or otherwise impair the Services;\n",
    "\n",
    "Gain access to (or attempt to gain access to) another user’s Account or any non-public portions of the Services, including the computer systems or networks connected to or used together with the Services;\n",
    "\n",
    "Upload, transmit, or distribute to or through the Services any viruses, worms, malicious code, or other software intended to interfere with the Services, including its security-related features;\n",
    "\n",
    "Use the Services to violate applicable law or infringe any person’s or entity’s intellectual property rights or any other proprietary rights;\n",
    "\n",
    "Access, search, or collect data from the Services by any means (automated or otherwise) except as permitted in these Terms or in a separate agreement with Reddit (we conditionally grant permission to crawl the Services in accordance with the parameters set forth in our robots.txt file, but scraping the Services without Reddit’s prior written consent is prohibited); or\n",
    "\n",
    "Use the Services in any manner that we reasonably believe to be an abuse of or fraud on Reddit or any payment system.\n",
    "\n",
    "We encourage you to report content or conduct that you believe violates these Terms or our Reddit Rules. We also support the responsible reporting of security vulnerabilities. To report a security issue, please email security@reddit.com.\"\"\"\n",
    "\n",
    "comparison = compare_paragraphs(text1, text2)\n",
    "print(comparison)"
   ]
  },
  {
   "cell_type": "code",
   "execution_count": 11,
   "id": "9803e4f0-0cb9-4894-a5fa-36d864cdc6a8",
   "metadata": {},
   "outputs": [
    {
     "name": "stdout",
     "output_type": "stream",
     "text": [
      "  8. Moderators\n",
      "  \n",
      "  Moderating a subreddit is an unofficial, voluntary position that may be available to users of the Services. \n",
      "  We are not responsible for actions taken by the moderators. \n",
      "  We reserve the right to revoke or limit a user’s ability to moderate at any time and for any reason or no reason, including for a breach of these Terms.\n",
      "  \n",
      "  If you choose to moderate a subreddit:\n",
      "  \n",
      "  You agree to follow the Moderator Code of Conduct;\n",
      "  \n",
      "  You agree that when you receive reports related to a subreddit you moderate, you will take appropriate action, which may include removing content that violates policy and/or promptly escalating to Reddit for review;\n",
      "  \n",
      "  You are not, and may not represent that you are, authorized to act on behalf of Reddit;\n",
      "  \n",
      "  You may not enter into any agreement with a third party on behalf of Reddit, or any subreddits that you moderate, without our written approval;\n",
      "  \n",
      "  You may not perform moderation actions in return for any form of compensation, consideration, gift, or favor from third parties;\n",
      "  \n",
      "  If you have access to non-public information as a result of moderating a subreddit, you will use such information only in connection with your performance as a moderator; and\n",
      "  \n",
      "  You may create and enforce rules for the subreddits you moderate, provided that such rules do not conflict with these Terms, the Reddit Rules, or the Moderator Code of Conduct.\n",
      "  \n",
      "  Reddit reserves the right, but has no obligation, to overturn any action or decision of a moderator if Reddit, in its sole discretion, believes that such action or decision is not in the interest of Reddit or the Reddit community.\n"
     ]
    }
   ],
   "source": [
    "# Example usage:\n",
    "text1 = \"\"\"8. Moderators\n",
    "\n",
    "Moderating a subreddit is an unofficial, voluntary position that may be available to users of the Services. \n",
    "We are not responsible for actions taken by the moderators. \n",
    "We reserve the right to revoke or limit a user’s ability to moderate at any time and for any reason or no reason, including for a breach of these Terms.\n",
    "\n",
    "If you choose to moderate a subreddit:\n",
    "\n",
    "You agree to follow the Moderator Code of Conduct;\n",
    "\n",
    "You agree that when you receive reports related to a subreddit you moderate, you will take appropriate action, which may include removing content that violates policy and/or promptly escalating to Reddit for review;\n",
    "\n",
    "You are not, and may not represent that you are, authorized to act on behalf of Reddit;\n",
    "\n",
    "You may not enter into any agreement with a third party on behalf of Reddit, or any subreddits that you moderate, without our written approval;\n",
    "\n",
    "You may not perform moderation actions in return for any form of compensation, consideration, gift, or favor from third parties;\n",
    "\n",
    "If you have access to non-public information as a result of moderating a subreddit, you will use such information only in connection with your performance as a moderator; and\n",
    "\n",
    "You may create and enforce rules for the subreddits you moderate, provided that such rules do not conflict with these Terms, the Reddit Rules, or the Moderator Code of Conduct.\n",
    "\n",
    "Reddit reserves the right, but has no obligation, to overturn any action or decision of a moderator if Reddit, in its sole discretion, believes that such action or decision is not in the interest of Reddit or the Reddit community.\"\"\"\n",
    "\n",
    "text2 = \"\"\"8. Moderators\n",
    "\n",
    "Moderating a subreddit is an unofficial, voluntary position that may be available to users of the Services. \n",
    "We are not responsible for actions taken by the moderators. \n",
    "We reserve the right to revoke or limit a user’s ability to moderate at any time and for any reason or no reason, including for a breach of these Terms.\n",
    "\n",
    "If you choose to moderate a subreddit:\n",
    "\n",
    "You agree to follow the Moderator Code of Conduct;\n",
    "\n",
    "You agree that when you receive reports related to a subreddit you moderate, you will take appropriate action, which may include removing content that violates policy and/or promptly escalating to Reddit for review;\n",
    "\n",
    "You are not, and may not represent that you are, authorized to act on behalf of Reddit;\n",
    "\n",
    "You may not enter into any agreement with a third party on behalf of Reddit, or any subreddits that you moderate, without our written approval;\n",
    "\n",
    "You may not perform moderation actions in return for any form of compensation, consideration, gift, or favor from third parties;\n",
    "\n",
    "If you have access to non-public information as a result of moderating a subreddit, you will use such information only in connection with your performance as a moderator; and\n",
    "\n",
    "You may create and enforce rules for the subreddits you moderate, provided that such rules do not conflict with these Terms, the Reddit Rules, or the Moderator Code of Conduct.\n",
    "\n",
    "Reddit reserves the right, but has no obligation, to overturn any action or decision of a moderator if Reddit, in its sole discretion, believes that such action or decision is not in the interest of Reddit or the Reddit community.\"\"\"\n",
    "\n",
    "comparison = compare_paragraphs(text1, text2)\n",
    "print(comparison)"
   ]
  },
  {
   "cell_type": "code",
   "execution_count": null,
   "id": "615e3529",
   "metadata": {},
   "outputs": [],
   "source": []
  },
  {
   "cell_type": "code",
   "execution_count": 12,
   "id": "031fe96d-5412-41b4-a218-f122f17bb209",
   "metadata": {},
   "outputs": [
    {
     "name": "stdout",
     "output_type": "stream",
     "text": [
      "  9. Copyright, Trademark, the DMCA, and Takedowns\n",
      "  \n",
      "  Reddit respects the intellectual property of others and requires that users of our Services do the same. We have a policy that includes the removal of any infringing material from the Services and for the termination, in appropriate circumstances, of users of our Services who are repeat infringers. If you believe that anything on our Services infringes a copyright or a trademark that you own or control, you may notify Reddit’s Designated Agent by filling out our Copyright Report Form or Trademark Report Form, or by contacting:\n",
      "  \n",
      "  Copyright Agent\n",
      "  Reddit, Inc.\n",
      "  303 2nd Street, Suite 500S\n",
      "  San Francisco, CA 94107\n",
      "  copyright@reddit.com\n",
      "  \n",
      "  See 17 U.S.C. § 512(c)(3) for the requirements of a proper notification. Also, please note that if you knowingly misrepresent that any activity or material on our Services is infringing, you may be liable to Reddit for certain costs and damages.\n",
      "  \n",
      "  If we remove Your Content in response to a copyright or trademark notice, we will notify you via Reddit’s private messaging system. If you believe Your Content was wrongly removed due to a mistake or misidentification in a copyright notice, you can send a counter notification via our Copyright Counter Notice Form or to our Copyright Agent (contact information provided above). Please see 17 U.S.C. § 512(g)(3) for the requirements of a proper counter notification.\n"
     ]
    }
   ],
   "source": [
    "# Example usage:\n",
    "text1 = \"\"\"9. Copyright, Trademark, the DMCA, and Takedowns\n",
    "\n",
    "Reddit respects the intellectual property of others and requires that users of our Services do the same. We have a policy that includes the removal of any infringing material from the Services and for the termination, in appropriate circumstances, of users of our Services who are repeat infringers. If you believe that anything on our Services infringes a copyright or a trademark that you own or control, you may notify Reddit’s Designated Agent by filling out our Copyright Report Form or Trademark Report Form, or by contacting:\n",
    "\n",
    "Copyright Agent\n",
    "Reddit, Inc.\n",
    "303 2nd Street, Suite 500S\n",
    "San Francisco, CA 94107\n",
    "copyright@reddit.com\n",
    "\n",
    "See 17 U.S.C. § 512(c)(3) for the requirements of a proper notification. Also, please note that if you knowingly misrepresent that any activity or material on our Services is infringing, you may be liable to Reddit for certain costs and damages.\n",
    "\n",
    "If we remove Your Content in response to a copyright or trademark notice, we will notify you via Reddit’s private messaging system. If you believe Your Content was wrongly removed due to a mistake or misidentification in a copyright notice, you can send a counter notification via our Copyright Counter Notice Form or to our Copyright Agent (contact information provided above). Please see 17 U.S.C. § 512(g)(3) for the requirements of a proper counter notification.\"\"\"\n",
    "\n",
    "text2 = \"\"\"9. Copyright, Trademark, the DMCA, and Takedowns\n",
    "\n",
    "Reddit respects the intellectual property of others and requires that users of our Services do the same. We have a policy that includes the removal of any infringing material from the Services and for the termination, in appropriate circumstances, of users of our Services who are repeat infringers. If you believe that anything on our Services infringes a copyright or a trademark that you own or control, you may notify Reddit’s Designated Agent by filling out our Copyright Report Form or Trademark Report Form, or by contacting:\n",
    "\n",
    "Copyright Agent\n",
    "Reddit, Inc.\n",
    "303 2nd Street, Suite 500S\n",
    "San Francisco, CA 94107\n",
    "copyright@reddit.com\n",
    "\n",
    "See 17 U.S.C. § 512(c)(3) for the requirements of a proper notification. Also, please note that if you knowingly misrepresent that any activity or material on our Services is infringing, you may be liable to Reddit for certain costs and damages.\n",
    "\n",
    "If we remove Your Content in response to a copyright or trademark notice, we will notify you via Reddit’s private messaging system. If you believe Your Content was wrongly removed due to a mistake or misidentification in a copyright notice, you can send a counter notification via our Copyright Counter Notice Form or to our Copyright Agent (contact information provided above). Please see 17 U.S.C. § 512(g)(3) for the requirements of a proper counter notification.\"\"\"\n",
    "\n",
    "comparison = compare_paragraphs(text1, text2)\n",
    "print(comparison)"
   ]
  },
  {
   "cell_type": "code",
   "execution_count": 13,
   "id": "201afc87-2087-4f3c-af6f-768f48f5c2c8",
   "metadata": {},
   "outputs": [
    {
     "name": "stdout",
     "output_type": "stream",
     "text": [
      "  10. Paid Services\n",
      "  \n",
      "  There are no fees for the use of many aspects of the Services. \n",
      "  However, some services, features, and products may be available for purchase (“Paid Services”). \n",
      "- In addition to these Terms, the Reddit Econ Terms also apply to Paid Services. \n",
      "?                           -\n",
      "+ In addition to these Terms the Reddit Econ Terms also apply to Paid Services. \n",
      "  By purchasing or using Paid Services, you further agree to the Econ Terms and, if applicable, the Previews Terms.\n"
     ]
    }
   ],
   "source": [
    "# Example usage:\n",
    "text1 = \"\"\"10. Paid Services\n",
    "\n",
    "There are no fees for the use of many aspects of the Services. \n",
    "However, some services, features, and products may be available for purchase (“Paid Services”). \n",
    "In addition to these Terms, the Reddit Econ Terms also apply to Paid Services. \n",
    "By purchasing or using Paid Services, you further agree to the Econ Terms and, if applicable, the Previews Terms.\"\"\"\n",
    "\n",
    "text2 = \"\"\"10. Paid Services\n",
    "\n",
    "There are no fees for the use of many aspects of the Services. \n",
    "However, some services, features, and products may be available for purchase (“Paid Services”). \n",
    "In addition to these Terms the Reddit Econ Terms also apply to Paid Services. \n",
    "By purchasing or using Paid Services, you further agree to the Econ Terms and, if applicable, the Previews Terms.\"\"\"\n",
    "\n",
    "comparison = compare_paragraphs(text1, text2)\n",
    "print(comparison)"
   ]
  },
  {
   "cell_type": "code",
   "execution_count": 14,
   "id": "d4550af7-8e6c-434e-9671-13f2d6fa06b7",
   "metadata": {},
   "outputs": [
    {
     "name": "stdout",
     "output_type": "stream",
     "text": [
      "  11. Intellectual Property\n",
      "  \n",
      "  The Services are owned and operated by Reddit. \n",
      "  The visual interfaces, graphics, design, compilation, information, data, computer code, products, services, trademarks, and all other elements of the Services (“Materials”) provided by Reddit are protected by intellectual property and other laws. \n",
      "  All Materials included in the Services are the property of Reddit or its third-party licensors. \n",
      "  You acknowledge and agree that you shall not acquire any ownership rights whatsoever by downloading Materials or by purchasing Paid Services. \n",
      "  Except as expressly authorized by Reddit, and subject to Reddit’s Brand Guidelines, you may not make use of the Materials. \n",
      "  Reddit reserves all rights to the Materials not granted expressly in these Terms.\n"
     ]
    }
   ],
   "source": [
    "# Example usage:\n",
    "text1 = \"\"\"11. Intellectual Property\n",
    "\n",
    "The Services are owned and operated by Reddit. \n",
    "The visual interfaces, graphics, design, compilation, information, data, computer code, products, services, trademarks, and all other elements of the Services (“Materials”) provided by Reddit are protected by intellectual property and other laws. \n",
    "All Materials included in the Services are the property of Reddit or its third-party licensors. \n",
    "You acknowledge and agree that you shall not acquire any ownership rights whatsoever by downloading Materials or by purchasing Paid Services. \n",
    "Except as expressly authorized by Reddit, and subject to Reddit’s Brand Guidelines, you may not make use of the Materials. \n",
    "Reddit reserves all rights to the Materials not granted expressly in these Terms.\"\"\"\n",
    "\n",
    "text2 = \"\"\"11. Intellectual Property\n",
    "\n",
    "The Services are owned and operated by Reddit. \n",
    "The visual interfaces, graphics, design, compilation, information, data, computer code, products, services, trademarks, and all other elements of the Services (“Materials”) provided by Reddit are protected by intellectual property and other laws. \n",
    "All Materials included in the Services are the property of Reddit or its third-party licensors. \n",
    "You acknowledge and agree that you shall not acquire any ownership rights whatsoever by downloading Materials or by purchasing Paid Services. \n",
    "Except as expressly authorized by Reddit, and subject to Reddit’s Brand Guidelines, you may not make use of the Materials. \n",
    "Reddit reserves all rights to the Materials not granted expressly in these Terms.\"\"\"\n",
    "\n",
    "comparison = compare_paragraphs(text1, text2)\n",
    "print(comparison)"
   ]
  },
  {
   "cell_type": "code",
   "execution_count": 15,
   "id": "9f17a37f-f1b4-4880-a102-411e2db59653",
   "metadata": {},
   "outputs": [
    {
     "name": "stdout",
     "output_type": "stream",
     "text": [
      "  12. Indemnity\n",
      "  \n",
      "  Except to the extent prohibited by law, you agree to defend, indemnify, and hold Reddit, its affiliates, \n",
      "- and their respective, directors, officers, employees, affiliates, agents, contractors, \n",
      "?                     -\n",
      "+ and their respective directors, officers, employees, affiliates, agents, contractors, \n",
      "  third-party service providers, and licensors (the “Reddit Entities”) harmless from and against any claim \n",
      "  or demand made by any third party, and any related liability, damage, loss, and expense \n",
      "  (including costs and attorneys’ fees) due to, arising out of, or in connection with: \n",
      "- (a) your use of the Services; (b) your violation of these Terms; (c) your violation of applicable laws or regulations; or (d) Your Content.\n",
      "+ (a) your use of the Services; (b) your violation of these Terms; (c) your violation of applicable laws or regulations; or (d) Your Content. \n",
      "?                                                                                                                                            +\n",
      "  We reserve the right to control the defense of any matter for which you are required to indemnify us, and you agree to cooperate with our defense of these claims.\n"
     ]
    }
   ],
   "source": [
    "# Example usage:\n",
    "text1 = \"\"\"12. Indemnity\n",
    "\n",
    "Except to the extent prohibited by law, you agree to defend, indemnify, and hold Reddit, its affiliates, \n",
    "and their respective, directors, officers, employees, affiliates, agents, contractors, \n",
    "third-party service providers, and licensors (the “Reddit Entities”) harmless from and against any claim \n",
    "or demand made by any third party, and any related liability, damage, loss, and expense \n",
    "(including costs and attorneys’ fees) due to, arising out of, or in connection with: \n",
    "(a) your use of the Services; (b) your violation of these Terms; (c) your violation of applicable laws or regulations; or (d) Your Content.\n",
    "We reserve the right to control the defense of any matter for which you are required to indemnify us, and you agree to cooperate with our defense of these claims.\"\"\"\n",
    "\n",
    "text2 = \"\"\"12. Indemnity\n",
    "\n",
    "Except to the extent prohibited by law, you agree to defend, indemnify, and hold Reddit, its affiliates, \n",
    "and their respective directors, officers, employees, affiliates, agents, contractors, \n",
    "third-party service providers, and licensors (the “Reddit Entities”) harmless from and against any claim \n",
    "or demand made by any third party, and any related liability, damage, loss, and expense \n",
    "(including costs and attorneys’ fees) due to, arising out of, or in connection with: \n",
    "(a) your use of the Services; (b) your violation of these Terms; (c) your violation of applicable laws or regulations; or (d) Your Content. \n",
    "We reserve the right to control the defense of any matter for which you are required to indemnify us, and you agree to cooperate with our defense of these claims.\"\"\"\n",
    "\n",
    "comparison = compare_paragraphs(text1, text2)\n",
    "print(comparison)"
   ]
  },
  {
   "cell_type": "code",
   "execution_count": 26,
   "id": "2146c024-d134-4756-b787-2c1ed3ac068a",
   "metadata": {
    "scrolled": false
   },
   "outputs": [
    {
     "name": "stdout",
     "output_type": "stream",
     "text": [
      "- 13. Disclaimers and Limitation of Liability\n",
      "?    ----------------\n",
      "+ 13. Limitation of Liability\n",
      "  \n",
      "- Nothing in these Terms will prejudice the statutory rights that you may have as a user of the Services. \n",
      "+ By using the Services you agree that the Reddit Entities’ liability is limited to the maximum extent permissible in your country of residence. \n",
      "  \n",
      "+ Liability will be limited to foreseeable damages arising due to a breach of material contractual obligations typical for this type of contract. Reddit isn’t liable for damages that result from a non-material breach of any other applicable duty of care. This limitation of liability will not apply to any statutory liability that cannot be limited, to liability for death or personal injury caused by our negligence or willful misconduct, or if and to exclude our responsibility for something we have specifically promised to you.- Some countries, states, provinces or other jurisdictions do not allow the exclusion of certain warranties or the limitation of liability as stated in this section, so the below terms may not fully apply to you. \n",
      "- \n",
      "- Instead, in such jurisdictions, the exclusions and limitations below shall apply only to the extent permitted by the laws of such jurisdictions.\n",
      "- \n",
      "- THE SERVICES ARE PROVIDED “AS IS” AND “AS AVAILABLE” WITHOUT REPRESENTATIONS, WARRANTIES, OR CONDITIONS OF ANY KIND, WHETHER EXPRESS, IMPLIED, LEGAL, OR STATUTORY, INCLUDING IMPLIED WARRANTIES OF MERCHANTABILITY, TITLE, FITNESS FOR A PARTICULAR PURPOSE, AND NON-INFRINGEMENT. THE REDDIT ENTITIES DO NOT WARRANT THAT THE SERVICES ARE ACCURATE, COMPLETE, RELIABLE, CURRENT, OR ERROR FREE. REDDIT DOES NOT CONTROL, ENDORSE, OR TAKE RESPONSIBILITY FOR ANY CONTENT AVAILABLE ON OR LINKED TO THE SERVICES OR THE ACTIONS OF ANY THIRD PARTY OR USER, INCLUDING MODERATORS. WHILE REDDIT ATTEMPTS TO MAKE YOUR ACCESS TO AND USE OF OUR SERVICES SAFE, WE DO NOT REPRESENT OR WARRANT THAT OUR SERVICES OR SERVERS ARE FREE OF VIRUSES OR OTHER HARMFUL COMPONENTS.\n",
      "- \n",
      "- IN NO EVENT WILL ANY OF THE REDDIT ENTITIES BE LIABLE TO YOU FOR ANY INDIRECT, CONSEQUENTIAL, EXEMPLARY, INCIDENTAL, SPECIAL, OR PUNITIVE DAMAGES, OR LOST PROFITS ARISING FROM OR RELATING TO THESE TERMS OR THE SERVICES, INCLUDING THOSE ARISING FROM OR RELATING TO CONTENT MADE AVAILABLE ON THE SERVICES THAT IS ALLEGED TO BE DEFAMATORY, OFFENSIVE, OR ILLEGAL. ACCESS TO, AND USE OF, THE SERVICES IS AT YOUR OWN DISCRETION AND RISK, AND YOU WILL BE SOLELY RESPONSIBLE FOR ANY DAMAGE TO YOUR DEVICE OR COMPUTER SYSTEM, OR RESULTING LOSS OF DATA. IN NO EVENT WILL THE AGGREGATE LIABILITY OF THE REDDIT ENTITIES EXCEED THE GREATER OF ONE HUNDRED U.S. DOLLARS ($100) OR ANY AMOUNT YOU PAID REDDIT IN THE PREVIOUS SIX MONTHS FOR THE SERVICES GIVING RISE TO THE CLAIM. THE LIMITATIONS OF THIS SECTION WILL APPLY TO ANY THEORY OF LIABILITY, INCLUDING THOSE BASED ON WARRANTY, CONTRACT, STATUTE, TORT, NEGLIGENCE, STRICT LIABILITY, OR OTHERWISE, EVEN IF THE REDDIT ENTITIES HAVE BEEN ADVISED OF THE POSSIBILITY OF ANY SUCH DAMAGE, AND EVEN IF ANY REMEDY SET FORTH IN THESE TERMS IS FOUND TO HAVE FAILED ITS ESSENTIAL PURPOSE.\n"
     ]
    }
   ],
   "source": [
    "# Example usage:\n",
    "text1 = \"\"\"13. Disclaimers and Limitation of Liability\n",
    "\n",
    "Nothing in these Terms will prejudice the statutory rights that you may have as a user of the Services. \n",
    "\n",
    "Some countries, states, provinces or other jurisdictions do not allow the exclusion of certain warranties or the limitation of liability as stated in this section, so the below terms may not fully apply to you. \n",
    "\n",
    "Instead, in such jurisdictions, the exclusions and limitations below shall apply only to the extent permitted by the laws of such jurisdictions.\n",
    "\n",
    "THE SERVICES ARE PROVIDED “AS IS” AND “AS AVAILABLE” WITHOUT REPRESENTATIONS, WARRANTIES, OR CONDITIONS OF ANY KIND, WHETHER EXPRESS, IMPLIED, LEGAL, OR STATUTORY, INCLUDING IMPLIED WARRANTIES OF MERCHANTABILITY, TITLE, FITNESS FOR A PARTICULAR PURPOSE, AND NON-INFRINGEMENT. THE REDDIT ENTITIES DO NOT WARRANT THAT THE SERVICES ARE ACCURATE, COMPLETE, RELIABLE, CURRENT, OR ERROR FREE. REDDIT DOES NOT CONTROL, ENDORSE, OR TAKE RESPONSIBILITY FOR ANY CONTENT AVAILABLE ON OR LINKED TO THE SERVICES OR THE ACTIONS OF ANY THIRD PARTY OR USER, INCLUDING MODERATORS. WHILE REDDIT ATTEMPTS TO MAKE YOUR ACCESS TO AND USE OF OUR SERVICES SAFE, WE DO NOT REPRESENT OR WARRANT THAT OUR SERVICES OR SERVERS ARE FREE OF VIRUSES OR OTHER HARMFUL COMPONENTS.\n",
    "\n",
    "IN NO EVENT WILL ANY OF THE REDDIT ENTITIES BE LIABLE TO YOU FOR ANY INDIRECT, CONSEQUENTIAL, EXEMPLARY, INCIDENTAL, SPECIAL, OR PUNITIVE DAMAGES, OR LOST PROFITS ARISING FROM OR RELATING TO THESE TERMS OR THE SERVICES, INCLUDING THOSE ARISING FROM OR RELATING TO CONTENT MADE AVAILABLE ON THE SERVICES THAT IS ALLEGED TO BE DEFAMATORY, OFFENSIVE, OR ILLEGAL. ACCESS TO, AND USE OF, THE SERVICES IS AT YOUR OWN DISCRETION AND RISK, AND YOU WILL BE SOLELY RESPONSIBLE FOR ANY DAMAGE TO YOUR DEVICE OR COMPUTER SYSTEM, OR RESULTING LOSS OF DATA. IN NO EVENT WILL THE AGGREGATE LIABILITY OF THE REDDIT ENTITIES EXCEED THE GREATER OF ONE HUNDRED U.S. DOLLARS ($100) OR ANY AMOUNT YOU PAID REDDIT IN THE PREVIOUS SIX MONTHS FOR THE SERVICES GIVING RISE TO THE CLAIM. THE LIMITATIONS OF THIS SECTION WILL APPLY TO ANY THEORY OF LIABILITY, INCLUDING THOSE BASED ON WARRANTY, CONTRACT, STATUTE, TORT, NEGLIGENCE, STRICT LIABILITY, OR OTHERWISE, EVEN IF THE REDDIT ENTITIES HAVE BEEN ADVISED OF THE POSSIBILITY OF ANY SUCH DAMAGE, AND EVEN IF ANY REMEDY SET FORTH IN THESE TERMS IS FOUND TO HAVE FAILED ITS ESSENTIAL PURPOSE.\"\"\"\n",
    "\n",
    "text2 = \"\"\"13. Limitation of Liability\n",
    "\n",
    "By using the Services you agree that the Reddit Entities’ liability is limited to the maximum extent permissible in your country of residence. \n",
    "\n",
    "Liability will be limited to foreseeable damages arising due to a breach of material contractual obligations typical for this type of contract. Reddit isn’t liable for damages that result from a non-material breach of any other applicable duty of care. This limitation of liability will not apply to any statutory liability that cannot be limited, to liability for death or personal injury caused by our negligence or willful misconduct, or if and to exclude our responsibility for something we have specifically promised to you.\"\"\"\n",
    "\n",
    "comparison = compare_paragraphs(text1, text2)\n",
    "print(comparison)"
   ]
  },
  {
   "cell_type": "code",
   "execution_count": 17,
   "id": "64f1d892-3a3c-469f-82da-d9dd4515b843",
   "metadata": {},
   "outputs": [
    {
     "name": "stdout",
     "output_type": "stream",
     "text": [
      "14. Governing Law and Venue\n",
      "\n",
      "We want you to enjoy Reddit, so if you have an issue or dispute, you agree to raise it and try to resolve it with us informally. You can contact us with feedback and concerns here.\n",
      "\n",
      "To the fullest extent permitted by applicable law, any claims arising out of or relating to these Terms or the Services will be governed by the laws of the State of California, without regard to its conflict of laws rules; all disputes related to these Terms or the Services will be brought solely in the federal or state courts located in San Francisco, California, and you and Reddit consent to personal jurisdiction in these courts.\n",
      "\n",
      "If you are a U.S. city, county, or state government entity, then this Section 14 does not apply to you. If you are a U.S. federal government entity, any claims arising out of or relating to these Terms or the Services will be governed by the laws of the United States of America without regard to its conflict of laws rules. To the extent permitted by federal law, the laws of California (other than its conflict of law rules) will apply in the absence of applicable federal law. All disputes related to these Terms or the Services will be brought solely in the federal or state courts located in San Francisco, California.\n"
     ]
    }
   ],
   "source": [
    "# Example usage:\n",
    "text1 = \"\"\"14. Governing Law and Venue\n",
    "\n",
    "We want you to enjoy Reddit, so if you have an issue or dispute, you agree to raise it and try to resolve it with us informally. You can contact us with feedback and concerns here.\n",
    "\n",
    "To the fullest extent permitted by applicable law, any claims arising out of or relating to these Terms or the Services will be governed by the laws of the State of California, without regard to its conflict of laws rules; all disputes related to these Terms or the Services will be brought solely in the federal or state courts located in San Francisco, California, and you and Reddit consent to personal jurisdiction in these courts.\n",
    "\n",
    "If you are a U.S. city, county, or state government entity, then this Section 14 does not apply to you. If you are a U.S. federal government entity, any claims arising out of or relating to these Terms or the Services will be governed by the laws of the United States of America without regard to its conflict of laws rules. To the extent permitted by federal law, the laws of California (other than its conflict of law rules) will apply in the absence of applicable federal law. All disputes related to these Terms or the Services will be brought solely in the federal or state courts located in San Francisco, California.\"\"\"\n",
    "\n",
    "\n",
    "print(text1)"
   ]
  },
  {
   "cell_type": "code",
   "execution_count": null,
   "id": "a7e87c92",
   "metadata": {},
   "outputs": [],
   "source": []
  },
  {
   "cell_type": "code",
   "execution_count": 18,
   "id": "22b1badb",
   "metadata": {},
   "outputs": [
    {
     "name": "stdout",
     "output_type": "stream",
     "text": [
      "- 15. Changes to these Terms\n",
      "?  ^\n",
      "+ 14. Changes to these Terms\n",
      "?  ^\n",
      "  \n",
      "  We may make changes to these Terms from time to time. \n",
      "  \n",
      "  If we make changes, we will post the revised Terms and update the Effective Date above. \n",
      "  \n",
      "- If the changes, in our sole discretion, are material, we may also notify you by sending an email to the address associated with your Account (if you have chosen to provide an email address) or by otherwise providing you with notice through our Services. \n",
      "+ If the changes, in our reasonable discretion, are material, we will notify you by sending an email to the address associated with your Account (if you have chosen to provide an email address) or by otherwise providing you with notice through our Services at least 30 days before the date they become effective. \n",
      "  \n",
      "  By continuing to access or use the Services on or after the Effective Date of the revised Terms, you agree to be bound by the revised Terms. \n",
      "  \n",
      "  If you do not agree to the revised Terms, you must stop accessing and using our Services before the changes become effective.\n"
     ]
    }
   ],
   "source": [
    "# Example usage:\n",
    "text1 = \"\"\"15. Changes to these Terms\n",
    "\n",
    "We may make changes to these Terms from time to time. \n",
    "\n",
    "If we make changes, we will post the revised Terms and update the Effective Date above. \n",
    "\n",
    "If the changes, in our sole discretion, are material, we may also notify you by sending an email to the address associated with your Account (if you have chosen to provide an email address) or by otherwise providing you with notice through our Services. \n",
    "\n",
    "By continuing to access or use the Services on or after the Effective Date of the revised Terms, you agree to be bound by the revised Terms. \n",
    "\n",
    "If you do not agree to the revised Terms, you must stop accessing and using our Services before the changes become effective.\"\"\"\n",
    "\n",
    "text2 = \"\"\"14. Changes to these Terms\n",
    "\n",
    "We may make changes to these Terms from time to time. \n",
    "\n",
    "If we make changes, we will post the revised Terms and update the Effective Date above. \n",
    "\n",
    "If the changes, in our reasonable discretion, are material, we will notify you by sending an email to the address associated with your Account (if you have chosen to provide an email address) or by otherwise providing you with notice through our Services at least 30 days before the date they become effective. \n",
    "\n",
    "By continuing to access or use the Services on or after the Effective Date of the revised Terms, you agree to be bound by the revised Terms. \n",
    "\n",
    "If you do not agree to the revised Terms, you must stop accessing and using our Services before the changes become effective.\"\"\"\n",
    "\n",
    "comparison = compare_paragraphs(text1, text2)\n",
    "print(comparison)"
   ]
  },
  {
   "cell_type": "code",
   "execution_count": 19,
   "id": "418dace8-0abb-4b1e-b0c0-5d6fa63d13f8",
   "metadata": {},
   "outputs": [
    {
     "name": "stdout",
     "output_type": "stream",
     "text": [
      "- 16. Additional Terms\n",
      "?  ^\n",
      "+ 15. Additional Terms\n",
      "?  ^\n",
      "  \n",
      "  Because we offer a variety of Services, you may be asked to agree to additional terms, policies, guidelines, or rules before using a specific product or service offered by Reddit (collectively, “Additional Terms”). All Additional Terms are incorporated by this reference into, and made a part of, these Terms, and to the extent any Additional Terms conflict with these Terms, the Additional Terms govern with respect to your use of the corresponding Services.\n",
      "  \n",
      "  If you use any Paid Services, you must also agree to the Reddit Econ Terms.\n",
      "  \n",
      "  If you use any preview features, you must also agree to the Reddit Previews Terms.\n",
      "  \n",
      "  If you advertise on the Services, you must also agree to the Reddit Advertising Platform Terms.\n",
      "  \n",
      "  If you use any of our Developer Services (including our APIs), you must also agree to the Reddit Developer Terms.\n",
      "  \n",
      "  If you participate in any Reddit program that is subject to Additional Terms (e.g., Earn Terms for any Earnings Program), you must also agree to those Additional Terms.\n"
     ]
    }
   ],
   "source": [
    "# Example usage:\n",
    "text1 = \"\"\"16. Additional Terms\n",
    "\n",
    "Because we offer a variety of Services, you may be asked to agree to additional terms, policies, guidelines, or rules before using a specific product or service offered by Reddit (collectively, “Additional Terms”). All Additional Terms are incorporated by this reference into, and made a part of, these Terms, and to the extent any Additional Terms conflict with these Terms, the Additional Terms govern with respect to your use of the corresponding Services.\n",
    "\n",
    "If you use any Paid Services, you must also agree to the Reddit Econ Terms.\n",
    "\n",
    "If you use any preview features, you must also agree to the Reddit Previews Terms.\n",
    "\n",
    "If you advertise on the Services, you must also agree to the Reddit Advertising Platform Terms.\n",
    "\n",
    "If you use any of our Developer Services (including our APIs), you must also agree to the Reddit Developer Terms.\n",
    "\n",
    "If you participate in any Reddit program that is subject to Additional Terms (e.g., Earn Terms for any Earnings Program), you must also agree to those Additional Terms.\"\"\"\n",
    "\n",
    "text2 = \"\"\"15. Additional Terms\n",
    "\n",
    "Because we offer a variety of Services, you may be asked to agree to additional terms, policies, guidelines, or rules before using a specific product or service offered by Reddit (collectively, “Additional Terms”). All Additional Terms are incorporated by this reference into, and made a part of, these Terms, and to the extent any Additional Terms conflict with these Terms, the Additional Terms govern with respect to your use of the corresponding Services.\n",
    "\n",
    "If you use any Paid Services, you must also agree to the Reddit Econ Terms.\n",
    "\n",
    "If you use any preview features, you must also agree to the Reddit Previews Terms.\n",
    "\n",
    "If you advertise on the Services, you must also agree to the Reddit Advertising Platform Terms.\n",
    "\n",
    "If you use any of our Developer Services (including our APIs), you must also agree to the Reddit Developer Terms.\n",
    "\n",
    "If you participate in any Reddit program that is subject to Additional Terms (e.g., Earn Terms for any Earnings Program), you must also agree to those Additional Terms.\"\"\"\n",
    "\n",
    "comparison = compare_paragraphs(text1, text2)\n",
    "print(comparison)"
   ]
  },
  {
   "cell_type": "code",
   "execution_count": 20,
   "id": "0ba4098f-fed0-4fd8-b883-fab4c424c1b1",
   "metadata": {},
   "outputs": [
    {
     "name": "stdout",
     "output_type": "stream",
     "text": [
      "- 17. Termination\n",
      "?  ^\n",
      "+ 16. Termination\n",
      "?  ^\n",
      "  \n",
      "  You may terminate these Terms at any time and for any reason by deleting your Account and discontinuing use of all Services. If you stop using the Services without deactivating your Account, your Account may be deactivated due to prolonged inactivity.\n",
      "  \n",
      "  To the fullest extent permitted by applicable law, we may suspend or terminate your Account, moderator status, or ability to access or use the Services at any time for any or no reason, including for violating these Terms or our Reddit Rules.\n",
      "  \n",
      "  The following sections will survive any termination of these Terms or of your Account: \n",
      "  \n",
      "  5 (Your Content), 7 (Things You Cannot Do), 12 (Indemnity), \n",
      "  \n",
      "- 13 (Disclaimers and Limitation of Liability), 14 (Governing Law and Venue), 17 (Termination), and 18 (Miscellaneous).+ 13 (Limitation of Liability), 16 (Termination), and 17 (Miscellaneous).\n"
     ]
    }
   ],
   "source": [
    "# Example usage:\n",
    "text1 = \"\"\"17. Termination\n",
    "\n",
    "You may terminate these Terms at any time and for any reason by deleting your Account and discontinuing use of all Services. If you stop using the Services without deactivating your Account, your Account may be deactivated due to prolonged inactivity.\n",
    "\n",
    "To the fullest extent permitted by applicable law, we may suspend or terminate your Account, moderator status, or ability to access or use the Services at any time for any or no reason, including for violating these Terms or our Reddit Rules.\n",
    "\n",
    "The following sections will survive any termination of these Terms or of your Account: \n",
    "\n",
    "5 (Your Content), 7 (Things You Cannot Do), 12 (Indemnity), \n",
    "\n",
    "13 (Disclaimers and Limitation of Liability), 14 (Governing Law and Venue), 17 (Termination), and 18 (Miscellaneous).\"\"\"\n",
    "\n",
    "text2 = \"\"\"16. Termination\n",
    "\n",
    "You may terminate these Terms at any time and for any reason by deleting your Account and discontinuing use of all Services. If you stop using the Services without deactivating your Account, your Account may be deactivated due to prolonged inactivity.\n",
    "\n",
    "To the fullest extent permitted by applicable law, we may suspend or terminate your Account, moderator status, or ability to access or use the Services at any time for any or no reason, including for violating these Terms or our Reddit Rules.\n",
    "\n",
    "The following sections will survive any termination of these Terms or of your Account: \n",
    "\n",
    "5 (Your Content), 7 (Things You Cannot Do), 12 (Indemnity), \n",
    "\n",
    "13 (Limitation of Liability), 16 (Termination), and 17 (Miscellaneous).\"\"\"\n",
    "\n",
    "comparison = compare_paragraphs(text1, text2)\n",
    "print(comparison)"
   ]
  },
  {
   "cell_type": "code",
   "execution_count": 21,
   "id": "7b48840e-93f4-4542-a7c0-b39944677f82",
   "metadata": {},
   "outputs": [
    {
     "name": "stdout",
     "output_type": "stream",
     "text": [
      "- 18. Miscellaneous\n",
      "?  ^\n",
      "+ 17. Miscellaneous\n",
      "?  ^\n",
      "  \n",
      "  These Terms, together with the Privacy Policy and any other agreements expressly incorporated by reference into these Terms, constitute the entire agreement between you and us regarding your access to and use of the Services. \n",
      "  \n",
      "  Our failure to exercise or enforce any right or provision of these Terms will not operate as a waiver of such right or provision. \n",
      "  \n",
      "  If any part of these Terms is held to be invalid or unenforceable, the unenforceable part will be given effect to the greatest extent possible, and the remaining parts will remain in full force and effect. \n",
      "  \n",
      "- You may not assign or transfer any of your rights or obligations under these Terms without our consent. \n",
      "?                                   --------                                                  -\n",
      "+ You may not assign or transfer any rights or obligations under these Terms without Reddit’s prior written consent. \n",
      "?                                                                                    ++++++++++++  ++++++++\n",
      "  \n",
      "- We may freely assign any of our rights and obligations under these Terms.\n",
      "+ Reddit may, without restriction, assign any of our rights and obligations under these Terms, at its sole discretion, with 30 days’ prior notice. \n",
      "+ \n",
      "+ Your right to terminate these Terms at any time pursuant to Section 16 remains unaffected.\n",
      "  \n",
      "  Headings are used in these Terms for reference only and will not be considered when interpreting them. \n",
      "  \n",
      "  For purposes of these Terms: (a) the words “include,” “includes,” and “including” will be deemed to be followed by the words “without limitation;” (b) the words “such as,” “for example,” “e.g.,” and any derivatives of those words will mean by way of example and the items that follow these words will not be deemed an exhaustive list; and (c) the word “or” is used in the inclusive sense of “and/or” and the terms “or,” “any,” and “either” are not exclusive. \n",
      "  \n",
      "  No ambiguity will be construed against any party based on a claim that the party drafted the language.\n",
      "  \n",
      "- These Terms are a legally-binding agreement between you and Reddit, Inc. \n",
      "?                                                                   - ^ ^\n",
      "+ These Terms are a legally-binding agreement between you and Reddit Netherlands B.V. \n",
      "?                                                                    ^^^^^^^^ ^^^^^^\n",
      "  \n",
      "  If you have any questions about these Terms, please contact us.\n",
      "  \n",
      "- Reddit, Inc.\n",
      "- 303 2nd Street, Suite 500S\n",
      "- San Francisco, CA 94107\n",
      "- United States+  \n",
      "+ \n",
      "+ Reddit Netherlands B.V.\n",
      "+ Euro Business Center\n",
      "+ Keizersgracht 62, 1015CS Amsterdam\n",
      "+ Netherlands\n"
     ]
    }
   ],
   "source": [
    "# Example usage:\n",
    "text1 = \"\"\"18. Miscellaneous\n",
    "\n",
    "These Terms, together with the Privacy Policy and any other agreements expressly incorporated by reference into these Terms, constitute the entire agreement between you and us regarding your access to and use of the Services. \n",
    "\n",
    "Our failure to exercise or enforce any right or provision of these Terms will not operate as a waiver of such right or provision. \n",
    "\n",
    "If any part of these Terms is held to be invalid or unenforceable, the unenforceable part will be given effect to the greatest extent possible, and the remaining parts will remain in full force and effect. \n",
    "\n",
    "You may not assign or transfer any of your rights or obligations under these Terms without our consent. \n",
    "\n",
    "We may freely assign any of our rights and obligations under these Terms.\n",
    "\n",
    "Headings are used in these Terms for reference only and will not be considered when interpreting them. \n",
    "\n",
    "For purposes of these Terms: (a) the words “include,” “includes,” and “including” will be deemed to be followed by the words “without limitation;” (b) the words “such as,” “for example,” “e.g.,” and any derivatives of those words will mean by way of example and the items that follow these words will not be deemed an exhaustive list; and (c) the word “or” is used in the inclusive sense of “and/or” and the terms “or,” “any,” and “either” are not exclusive. \n",
    "\n",
    "No ambiguity will be construed against any party based on a claim that the party drafted the language.\n",
    "\n",
    "These Terms are a legally-binding agreement between you and Reddit, Inc. \n",
    "\n",
    "If you have any questions about these Terms, please contact us.\n",
    "\n",
    "Reddit, Inc.\n",
    "303 2nd Street, Suite 500S\n",
    "San Francisco, CA 94107\n",
    "United States\"\"\"\n",
    "\n",
    "text2 = \"\"\"17. Miscellaneous\n",
    "\n",
    "These Terms, together with the Privacy Policy and any other agreements expressly incorporated by reference into these Terms, constitute the entire agreement between you and us regarding your access to and use of the Services. \n",
    "\n",
    "Our failure to exercise or enforce any right or provision of these Terms will not operate as a waiver of such right or provision. \n",
    "\n",
    "If any part of these Terms is held to be invalid or unenforceable, the unenforceable part will be given effect to the greatest extent possible, and the remaining parts will remain in full force and effect. \n",
    "\n",
    "You may not assign or transfer any rights or obligations under these Terms without Reddit’s prior written consent. \n",
    "\n",
    "Reddit may, without restriction, assign any of our rights and obligations under these Terms, at its sole discretion, with 30 days’ prior notice. \n",
    "\n",
    "Your right to terminate these Terms at any time pursuant to Section 16 remains unaffected.\n",
    "\n",
    "Headings are used in these Terms for reference only and will not be considered when interpreting them. \n",
    "\n",
    "For purposes of these Terms: (a) the words “include,” “includes,” and “including” will be deemed to be followed by the words “without limitation;” (b) the words “such as,” “for example,” “e.g.,” and any derivatives of those words will mean by way of example and the items that follow these words will not be deemed an exhaustive list; and (c) the word “or” is used in the inclusive sense of “and/or” and the terms “or,” “any,” and “either” are not exclusive. \n",
    "\n",
    "No ambiguity will be construed against any party based on a claim that the party drafted the language.\n",
    "\n",
    "These Terms are a legally-binding agreement between you and Reddit Netherlands B.V. \n",
    "\n",
    "If you have any questions about these Terms, please contact us.\n",
    "\n",
    " \n",
    "\n",
    "Reddit Netherlands B.V.\n",
    "Euro Business Center\n",
    "Keizersgracht 62, 1015CS Amsterdam\n",
    "Netherlands\"\"\"\n",
    "\n",
    "\n",
    "comparison = compare_paragraphs(text1, text2)\n",
    "print(comparison)"
   ]
  },
  {
   "cell_type": "code",
   "execution_count": null,
   "id": "0a1af69f",
   "metadata": {},
   "outputs": [],
   "source": []
  },
  {
   "cell_type": "markdown",
   "id": "49374971",
   "metadata": {},
   "source": [
    "## OnePlus"
   ]
  },
  {
   "cell_type": "code",
   "execution_count": 22,
   "id": "cd49637a-bbcd-4d92-942c-744a626d1828",
   "metadata": {},
   "outputs": [
    {
     "name": "stdout",
     "output_type": "stream",
     "text": [
      "  This is the first paragraph.\n",
      "  It has some text and some sentences.\n",
      "- This is the end of the first paragraph.?                        --- ^\n",
      "+ This is the end of the second paragraph.?                         ^^^^^\n",
      "\n"
     ]
    }
   ],
   "source": [
    "# Example usage:\n",
    "text1 = \"\"\"This is the first paragraph.\n",
    "It has some text and some sentences.\n",
    "This is the end of the first paragraph.\"\"\"\n",
    "\n",
    "text2 = \"\"\"This is the first paragraph.\n",
    "It has some text and some sentences.\n",
    "This is the end of the second paragraph.\"\"\"\n",
    "\n",
    "comparison = compare_paragraphs(text1, text2)\n",
    "print(comparison)"
   ]
  },
  {
   "cell_type": "code",
   "execution_count": null,
   "id": "50609fae",
   "metadata": {},
   "outputs": [],
   "source": []
  },
  {
   "cell_type": "markdown",
   "id": "da37041f",
   "metadata": {},
   "source": [
    "## Playstation"
   ]
  },
  {
   "cell_type": "code",
   "execution_count": 23,
   "id": "ee6ca659-dabc-42a5-89bb-658f3bfa07fd",
   "metadata": {},
   "outputs": [
    {
     "name": "stdout",
     "output_type": "stream",
     "text": [
      "  This is the first paragraph.\n",
      "  It has some text and some sentences.\n",
      "- This is the end of the first paragraph.?                        --- ^\n",
      "+ This is the end of the second paragraph.?                         ^^^^^\n",
      "\n"
     ]
    }
   ],
   "source": [
    "# Example usage:\n",
    "text1 = \"\"\"This is the first paragraph.\n",
    "It has some text and some sentences.\n",
    "This is the end of the first paragraph.\"\"\"\n",
    "\n",
    "text2 = \"\"\"This is the first paragraph.\n",
    "It has some text and some sentences.\n",
    "This is the end of the second paragraph.\"\"\"\n",
    "\n",
    "comparison = compare_paragraphs(text1, text2)\n",
    "print(comparison)"
   ]
  }
 ],
 "metadata": {
  "kernelspec": {
   "display_name": "Python 3 (ipykernel)",
   "language": "python",
   "name": "python3"
  },
  "language_info": {
   "codemirror_mode": {
    "name": "ipython",
    "version": 3
   },
   "file_extension": ".py",
   "mimetype": "text/x-python",
   "name": "python",
   "nbconvert_exporter": "python",
   "pygments_lexer": "ipython3",
   "version": "3.11.5"
  }
 },
 "nbformat": 4,
 "nbformat_minor": 5
}
